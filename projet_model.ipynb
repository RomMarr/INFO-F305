{
 "cells": [
  {
   "cell_type": "markdown",
   "id": "faf47ff2-49c5-40b9-bc81-b83f748d63f4",
   "metadata": {},
   "source": [
    "Première equation : $R\\dfrac{dT}{t} = Q(1 − α) − σT^4$"
   ]
  },
  {
   "cell_type": "markdown",
   "id": "b64bc56d-8362-4fc8-89af-225471cf1e82",
   "metadata": {},
   "source": [
    "Pour trouver l'équilibre il faut que :  $\\dfrac{dT}{t}$ soit égale à 0\n",
    "\n",
    "On a donc :  $R*0 = Q(1 − α) − σT^4$\n",
    "\n",
    "Ce qui donne :  $ T^4 = \\dfrac{Q(1 − α)}{σ}$"
   ]
  },
  {
   "cell_type": "code",
   "execution_count": 4,
   "id": "9f043302-e767-413d-bce9-1e8b46df1e0d",
   "metadata": {},
   "outputs": [
    {
     "name": "stdout",
     "output_type": "stream",
     "text": [
      "t4 = 4.2222e+09\n",
      "t = 254.91\n"
     ]
    }
   ],
   "source": [
    " t4 = (342*0.7)/((5.67)*(10^-8))\n",
    "\n",
    " t = t4^(1/4)"
   ]
  },
  {
   "cell_type": "markdown",
   "id": "68cbd4b1-83ca-4d21-aafc-39f76cfc2d88",
   "metadata": {},
   "source": [
    "On a donc $T^4 = 4.2222*10^9$\n",
    "\n",
    "Ce qui nous donne pour seul valeur pour t = $254.91$ car il faut écarter toutes les valeurs négatives."
   ]
  },
  {
   "cell_type": "code",
   "execution_count": 2,
   "id": "101760e1-92cc-4460-b16e-261fd515db4c",
   "metadata": {},
   "outputs": [
    {
     "data": {
      "image/png": "[encoded data removed]",
      "text/plain": [
       "<IPython.core.display.Image object>"
      ]
     },
     "metadata": {},
     "output_type": "display_data"
    }
   ],
   "source": [
    "condition_initiale = [0];\n",
    "# Paramètres\n",
    "R = 2.912;\n",
    "Q = 342;\n",
    "alpha = 0.3;\n",
    "sigma = (5.67)*(10^-8);\n",
    "temps_simulation = [0, 10^5];\n",
    "xdot = @(t, x) [(Q*(1-alpha)-(sigma*(x(1)^4)))/R]; # Définition système\n",
    "[t,x] = ode23(xdot, temps_simulation, condition_initiale); # Résolution système\n",
    "plot(t,x)"
   ]
  },
  {
   "cell_type": "code",
   "execution_count": null,
   "id": "3e60abec-75e2-4186-b6db-0e2ad046a6af",
   "metadata": {},
   "outputs": [],
   "source": []
  }
 ],
 "metadata": {
  "kernelspec": {
   "display_name": "Octave",
   "language": "octave",
   "name": "octave"
  },
  "language_info": {
   "file_extension": ".m",
   "help_links": [
    {
     "text": "GNU Octave",
     "url": "https://www.gnu.org/software/octave/support.html"
    },
    {
     "text": "Octave Kernel",
     "url": "https://github.com/Calysto/octave_kernel"
    },
    {
     "text": "MetaKernel Magics",
     "url": "https://metakernel.readthedocs.io/en/latest/source/README.html"
    }
   ],
   "mimetype": "text/x-octave",
   "name": "octave",
   "version": "7.2.0"
  }
 },
 "nbformat": 4,
 "nbformat_minor": 5
}
